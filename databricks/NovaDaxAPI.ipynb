{
 "cells": [
  {
   "cell_type": "markdown",
   "metadata": {
    "application/vnd.databricks.v1+cell": {
     "cellMetadata": {},
     "inputWidgets": {},
     "nuid": "673df7f8-a9dd-4a61-911b-212121acf11a",
     "showTitle": false,
     "title": ""
    }
   },
   "source": [
    "### Criar um secret scope\n",
    "\n",
    "1º - Criar o secret no Key Vault da Azure\n",
    "\n",
    "2º - Acessar o endereço \"https://(databricks-instance-here)#secrets/createScope\" colocando a sua instacia do databricks\n",
    "\n",
    "3º - Preencher com as informações soicitadas\n",
    "  \n",
    "https://learn.microsoft.com/en-us/azure/databricks/security/secrets/secret-scopes  "
   ]
  },
  {
   "cell_type": "markdown",
   "metadata": {
    "application/vnd.databricks.v1+cell": {
     "cellMetadata": {},
     "inputWidgets": {},
     "nuid": "18a87e1e-b280-4de4-a1f9-de755376ce43",
     "showTitle": false,
     "title": ""
    }
   },
   "source": [
    "###Montar um blob"
   ]
  },
  {
   "cell_type": "code",
   "execution_count": 0,
   "metadata": {
    "application/vnd.databricks.v1+cell": {
     "cellMetadata": {
      "byteLimit": 2048000,
      "rowLimit": 10000
     },
     "inputWidgets": {},
     "nuid": "a4ea56e2-d8f0-4255-bead-b738556e7e38",
     "showTitle": false,
     "title": ""
    }
   },
   "outputs": [
    {
     "output_type": "execute_result",
     "data": {
      "text/plain": [
       "True"
      ]
     },
     "execution_count": 8,
     "metadata": {},
     "output_type": "execute_result"
    }
   ],
   "source": [
    "dbutils.fs.mount(\n",
    "  source = \"wasbs://dax@ricafunctionapp.blob.core.windows.net\",\n",
    "  mount_point = \"/mnt/blob/dax\",\n",
    "  extra_configs = {\"fs.azure.account.key.ricafunctionapp.blob.core.windows.net\":dbutils.secrets.get(scope = \"rica-secret-scope\", key = \"ricafunctionapp-key\")})\n",
    "\n",
    "  # https://learn.microsoft.com/en-us/azure/databricks/dbfs/mounts"
   ]
  },
  {
   "cell_type": "code",
   "execution_count": 0,
   "metadata": {
    "application/vnd.databricks.v1+cell": {
     "cellMetadata": {
      "byteLimit": 2048000,
      "rowLimit": 10000
     },
     "inputWidgets": {},
     "nuid": "3dacc56f-c866-4467-a93b-2239729ce838",
     "showTitle": false,
     "title": ""
    }
   },
   "outputs": [],
   "source": [
    "from pyspark.sql import *\n",
    "from pyspark.sql.types import *\n",
    "from pyspark.sql.functions import *"
   ]
  },
  {
   "cell_type": "markdown",
   "metadata": {
    "application/vnd.databricks.v1+cell": {
     "cellMetadata": {
      "byteLimit": 2048000,
      "rowLimit": 10000
     },
     "inputWidgets": {},
     "nuid": "8269f177-a0f1-4a26-9183-441a49a5b5d3",
     "showTitle": false,
     "title": ""
    }
   },
   "source": [
    "##Leitura e transformação"
   ]
  },
  {
   "cell_type": "code",
   "execution_count": 0,
   "metadata": {
    "application/vnd.databricks.v1+cell": {
     "cellMetadata": {
      "byteLimit": 2048000,
      "rowLimit": 10000
     },
     "inputWidgets": {},
     "nuid": "464b61f2-26e1-4eb1-866f-9a20a23c91ec",
     "showTitle": false,
     "title": ""
    }
   },
   "outputs": [],
   "source": [
    "df = (spark\n",
    "        .read\n",
    "        .json('dbfs:/mnt/blob/dax*'))\n",
    "\n",
    "# display(df)"
   ]
  },
  {
   "cell_type": "code",
   "execution_count": 0,
   "metadata": {
    "application/vnd.databricks.v1+cell": {
     "cellMetadata": {
      "byteLimit": 2048000,
      "rowLimit": 10000
     },
     "inputWidgets": {},
     "nuid": "87afc88c-3b28-4de5-9365-2493b4f635b5",
     "showTitle": false,
     "title": ""
    }
   },
   "outputs": [],
   "source": [
    "df_exp = df.select(\n",
    "    'data.symbol',\n",
    "    'data.ask',\n",
    "    'data.baseVolume24h',\n",
    "    'data.bid',\n",
    "    'data.high24h',\n",
    "    'data.lastPrice',\n",
    "    'data.low24h',\n",
    "    'data.open24h',\n",
    "    'data.quoteVolume24h',\n",
    "    'data.timestamp'\n",
    ")\n",
    "# display(df_exp)"
   ]
  },
  {
   "cell_type": "code",
   "execution_count": 0,
   "metadata": {
    "application/vnd.databricks.v1+cell": {
     "cellMetadata": {
      "byteLimit": 2048000,
      "rowLimit": 10000
     },
     "inputWidgets": {},
     "nuid": "cbe0b8b4-3d61-445a-9ee5-1318770f1906",
     "showTitle": false,
     "title": ""
    }
   },
   "outputs": [],
   "source": [
    "df_exp = (\n",
    "    df_exp\n",
    "    .withColumn(\"timestamp\", from_unixtime(df_exp.timestamp / 1000))\n",
    "    .withColumn(\"broker_id\", lit(\"1\"))\n",
    "    .withColumn(\"usuario_id\", lit(\"1\"))\n",
    "    )\n",
    "# display(df_exp)"
   ]
  },
  {
   "cell_type": "code",
   "execution_count": 0,
   "metadata": {
    "application/vnd.databricks.v1+cell": {
     "cellMetadata": {
      "byteLimit": 2048000,
      "rowLimit": 10000
     },
     "inputWidgets": {},
     "nuid": "b366d106-e943-4bfc-b740-8791e6c04f6b",
     "showTitle": false,
     "title": ""
    }
   },
   "outputs": [],
   "source": [
    "df = df_exp.select(\n",
    "    'broker_id',\n",
    "    'usuario_id',\n",
    "    'symbol',\n",
    "    'ask',\n",
    "    'baseVolume24h',\n",
    "    'bid',\n",
    "    'high24h',\n",
    "    'lastPrice',\n",
    "    'low24h',\n",
    "    'open24h',\n",
    "    'quoteVolume24h',\n",
    "    'timestamp'\n",
    ")\n",
    "# display(df)"
   ]
  },
  {
   "cell_type": "markdown",
   "metadata": {
    "application/vnd.databricks.v1+cell": {
     "cellMetadata": {
      "byteLimit": 2048000,
      "rowLimit": 10000
     },
     "inputWidgets": {},
     "nuid": "84ce51d8-5471-40d6-8928-9c699afd1199",
     "showTitle": false,
     "title": ""
    }
   },
   "source": [
    "##Save into AzureSQL DB"
   ]
  },
  {
   "cell_type": "code",
   "execution_count": 0,
   "metadata": {
    "application/vnd.databricks.v1+cell": {
     "cellMetadata": {
      "byteLimit": 2048000,
      "rowLimit": 10000
     },
     "inputWidgets": {},
     "nuid": "04a7168a-a97a-4331-a042-a1359ded74d1",
     "showTitle": false,
     "title": ""
    }
   },
   "outputs": [],
   "source": [
    "jdbcUser = 'user'\n",
    "jdbcPassword  = 'password'\n",
    "jdbcHostname = 'server.database.windows.net'\n",
    "jdbcDatabase = 'db'\n",
    "jdbcPort = 1433\n",
    "jdbcDriver = 'com.microsoft.sqlserver.jdbc.SQLServerDriver'\n",
    "\n",
    "jdbcUrl = 'jdbc:sqlserver://{0}:{1};database={2}'.format(jdbcHostname, jdbcPort, jdbcDatabase)\n",
    "connectionProperties = {\n",
    "  'user' : jdbcUser,\n",
    "  'password' : jdbcPassword,\n",
    "  'driver' : jdbcDriver\n",
    "}\n",
    "\n",
    "table = 'dax_api'\n",
    "\n",
    "(df\n",
    "   .write.mode('append')\n",
    "  .format('jdbc')\n",
    "  .option('url', jdbcUrl)\n",
    "  .option('dbtable', table)\n",
    "  .option('user', jdbcUser)\n",
    "  .option('password', jdbcPassword)\n",
    "  .option('driver', jdbcDriver)\n",
    "  .save()\n",
    ")"
   ]
  }
 ],
 "metadata": {
  "application/vnd.databricks.v1+notebook": {
   "dashboards": [],
   "language": "python",
   "notebookMetadata": {
    "pythonIndentUnit": 4
   },
   "notebookName": "NovaDaxAPI",
   "widgets": {}
  }
 },
 "nbformat": 4,
 "nbformat_minor": 0
}
